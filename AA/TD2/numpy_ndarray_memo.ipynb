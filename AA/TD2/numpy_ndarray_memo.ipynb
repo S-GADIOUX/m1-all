{
 "cells": [
  {
   "cell_type": "markdown",
   "metadata": {},
   "source": [
    "# Mémo sur le type ndarray de numpy"
   ]
  },
  {
   "cell_type": "markdown",
   "metadata": {},
   "source": [
    "#### Marie Candito - Master Linguistique Informatique - Paris Diderot"
   ]
  },
  {
   "cell_type": "markdown",
   "metadata": {},
   "source": [
    "Le type numpy.ndarray est utilisable pour représenter des tableaux multidimensionnels \n",
    "(ou encore \"n-dimensional\" d'où le nd de ndarray).\n",
    "\n",
    "Un tableau unidimensionnel correspond mathématiquement à un **vecteur** (= tenseur à 1 dimension).\n",
    "\n",
    "Un tableau bidimensionnel correspond à une **matrice** (= tenseur à 2 dimensions).\n",
    "\n",
    "Et plus généralement un tableau n-dimensionnel correspond à un **tenseur** à n dimensions, appelées **axis** dans numpy.\n",
    "\n",
    "On peut construire un ndarray avec les méthodes numpy array, zeros, ones, random.rand, arange ... \n"
   ]
  },
  {
   "cell_type": "markdown",
   "metadata": {},
   "source": [
    "### Exemple matrice initialisée via np.zeros"
   ]
  },
  {
   "cell_type": "code",
   "execution_count": 23,
   "metadata": {
    "collapsed": false,
    "scrolled": false
   },
   "outputs": [
    {
     "name": "stdout",
     "output_type": "stream",
     "text": [
      "[[0. 0. 0. 0. 0.]\n",
      " [0. 0. 0. 0. 0.]\n",
      " [0. 0. 0. 0. 0.]\n",
      " [0. 0. 0. 0. 0.]]\n",
      "(4, 5)\n"
     ]
    }
   ],
   "source": [
    "import numpy as np\n",
    "\n",
    "m1 = np.zeros( (4,5) ) # une matrice à 4 lignes et 5 colonnes\n",
    "                       # ndarray bidimensionnel\n",
    "print(m1)\n",
    "print(m1.shape)  # la \"shape\" est un tuple donnant la taille de chaque dimension"
   ]
  },
  {
   "cell_type": "markdown",
   "metadata": {},
   "source": [
    "### Test Zone"
   ]
  },
  {
   "cell_type": "code",
   "execution_count": 51,
   "metadata": {
    "collapsed": false
   },
   "outputs": [
    {
     "data": {
      "text/plain": [
       "5"
      ]
     },
     "execution_count": 51,
     "metadata": {},
     "output_type": "execute_result"
    }
   ],
   "source": [
    "l = [5,1,2,3]\n",
    "l.pop(0)"
   ]
  },
  {
   "cell_type": "markdown",
   "metadata": {},
   "source": [
    "### Vecteur vs matrice à une ligne ou une colonne"
   ]
  },
  {
   "cell_type": "code",
   "execution_count": 25,
   "metadata": {
    "collapsed": false
   },
   "outputs": [
    {
     "name": "stdout",
     "output_type": "stream",
     "text": [
      "[5. 6. 7.]\n",
      "<class 'numpy.ndarray'>\n",
      "(3,)\n"
     ]
    }
   ],
   "source": [
    "v1 = np.array ([5,6,7], float)  # un vecteur à 3 dimensions, de réels\n",
    "                                # équivalent à une liste, mais tous les éléments doivent avoir le même type\n",
    "print(v1)\n",
    "print (type(v1))\n",
    "print (v1.shape) # shape spéciale pour les ndarray unidimensionnels"
   ]
  },
  {
   "cell_type": "code",
   "execution_count": 26,
   "metadata": {
    "collapsed": false
   },
   "outputs": [
    {
     "name": "stdout",
     "output_type": "stream",
     "text": [
      "[0. 0. 0. 0.]\n",
      "(4,)\n"
     ]
    }
   ],
   "source": [
    "v2 = np.zeros( (4,) )\n",
    "print(v2)\n",
    "print(v2.shape)"
   ]
  },
  {
   "cell_type": "code",
   "execution_count": 27,
   "metadata": {
    "collapsed": false
   },
   "outputs": [
    {
     "name": "stdout",
     "output_type": "stream",
     "text": [
      "[1. 1. 1.]\n",
      "[[1.]\n",
      " [1.]\n",
      " [1.]]\n",
      "[[1. 1. 1.]]\n"
     ]
    }
   ],
   "source": [
    "# attention vecteur de shape (n,) versus matrice de shape (n,1)\n",
    "vect = np.ones((3,))\n",
    "mat1 = np.ones((3,1))\n",
    "mat2 = np.ones((1,3))\n",
    "\n",
    "print(vect)\n",
    "print(mat1)\n",
    "print(mat2)"
   ]
  },
  {
   "cell_type": "markdown",
   "metadata": {},
   "source": [
    "### Autres méthodes d'initialisation"
   ]
  },
  {
   "cell_type": "code",
   "execution_count": 28,
   "metadata": {
    "collapsed": false
   },
   "outputs": [
    {
     "name": "stdout",
     "output_type": "stream",
     "text": [
      "[[0.93009397 0.20617684]\n",
      " [0.62136029 0.79739278]]\n"
     ]
    }
   ],
   "source": [
    "m2 = np.random.rand(2,2)  # matrice 2x2 réels aléatoires entre 0 et 1\n",
    "print(m2)"
   ]
  },
  {
   "cell_type": "code",
   "execution_count": 29,
   "metadata": {
    "collapsed": false
   },
   "outputs": [
    {
     "name": "stdout",
     "output_type": "stream",
     "text": [
      "[[[1 2]\n",
      "  [1 2]]\n",
      "\n",
      " [[1 2]\n",
      "  [1 2]]]\n"
     ]
    }
   ],
   "source": [
    "a=np.array([[[1,2],[1,2]],[[1,2],[1,2]]])  # tenseur à 3 indices, 2x2x2 \n",
    "                                           # (cube, chaque face est une matrice 2x2)\n",
    "print(a)"
   ]
  },
  {
   "cell_type": "code",
   "execution_count": 30,
   "metadata": {
    "collapsed": false
   },
   "outputs": [
    {
     "name": "stdout",
     "output_type": "stream",
     "text": [
      "[ 0  1  2  3  4  5  6  7  8  9 10 11 12 13 14 15]\n",
      "(16,)\n",
      "(4, 4)\n",
      "[[ 0  1  2  3]\n",
      " [ 4  5  6  7]\n",
      " [ 8  9 10 11]\n",
      " [12 13 14 15]]\n",
      "[ 0  1  2  3  0  5  6  7  8  9 10 11 12 13 14 15]\n"
     ]
    }
   ],
   "source": [
    "# initialisation de type range et reshape\n",
    "a = np.array (range(16))\n",
    "print(a)\n",
    "b = a.reshape(4,4)\n",
    "print(a.shape) \n",
    "print(b.shape)\n",
    "print(b)\n",
    "\n",
    "# NB le reshape n'effectue pas de copie\n",
    "b[1,0] = 0\n",
    "print(a)"
   ]
  },
  {
   "cell_type": "code",
   "execution_count": 31,
   "metadata": {
    "collapsed": false
   },
   "outputs": [
    {
     "name": "stdout",
     "output_type": "stream",
     "text": [
      "[2.  2.6 3.2 3.8 4.4 5. ]\n",
      "(6,)\n"
     ]
    }
   ],
   "source": [
    "# initialisation de type linspace\n",
    "a = np.linspace(2,5,6)  # borne inf, borne sup, nb d'éléments\n",
    "                        # = 6 éléments, également répartis entre 2 et 5 inclus\n",
    "print(a)\n",
    "type(a)\n",
    "print(a.shape)"
   ]
  },
  {
   "cell_type": "markdown",
   "metadata": {},
   "source": [
    "## Transposition"
   ]
  },
  {
   "cell_type": "code",
   "execution_count": 32,
   "metadata": {
    "collapsed": false
   },
   "outputs": [
    {
     "name": "stdout",
     "output_type": "stream",
     "text": [
      "[[0 1 2 3]\n",
      " [4 5 6 7]]\n",
      "[[0 4]\n",
      " [1 5]\n",
      " [2 6]\n",
      " [3 7]]\n"
     ]
    }
   ],
   "source": [
    "# parfois nécessaire de changer lignes en colonnes\n",
    "a = np.array (range(8)).reshape(2,4)\n",
    "b = a.transpose()\n",
    "print(a)\n",
    "print(b)\n"
   ]
  },
  {
   "cell_type": "markdown",
   "metadata": {},
   "source": [
    "## Copie"
   ]
  },
  {
   "cell_type": "code",
   "execution_count": 33,
   "metadata": {
    "collapsed": false
   },
   "outputs": [
    {
     "name": "stdout",
     "output_type": "stream",
     "text": [
      "[[ 1.  1.  1.  1.]\n",
      " [ 1.  1. 17.  1.]\n",
      " [ 1.  1.  1.  1.]]\n",
      "[[ 1.  1.  1.  1.]\n",
      " [ 1.  1. 17.  1.]\n",
      " [ 1.  1.  1.  1.]]\n",
      "[[ 1.  1.  1.  1.]\n",
      " [ 1.  1. 17.  2.]\n",
      " [ 1.  1.  1.  1.]]\n",
      "[[ 1.  1.  1.  1.]\n",
      " [ 1.  1. 17.  1.]\n",
      " [ 1.  1.  1.  1.]]\n"
     ]
    }
   ],
   "source": [
    "# Attention, l'assignation ne copie pas\n",
    "a = np.ones(shape=(3,4))\n",
    "b = a\n",
    "a[1,2] =17\n",
    "print(a)\n",
    "print(b)\n",
    "\n",
    "c=np.copy(a)\n",
    "a[1,3]=2\n",
    "print(a)\n",
    "print(c)"
   ]
  },
  {
   "cell_type": "markdown",
   "metadata": {},
   "source": [
    "## Accéder / affecter une cellule / une ligne ou plus généralement une sous-partie"
   ]
  },
  {
   "cell_type": "code",
   "execution_count": 34,
   "metadata": {
    "collapsed": false
   },
   "outputs": [
    {
     "name": "stdout",
     "output_type": "stream",
     "text": [
      "[[ 0  1  2]\n",
      " [ 3  4  5]\n",
      " [ 6  7  8]\n",
      " [ 9 10 11]]\n",
      "3\n",
      "[6 7 8]\n",
      "(3,)\n",
      "[[ 1  2]\n",
      " [ 4  5]\n",
      " [ 7  8]\n",
      " [10 11]]\n",
      "(4, 2)\n"
     ]
    }
   ],
   "source": [
    "a = np.array (range(12))\n",
    "a = a.reshape(4,3)\n",
    "print(a)\n",
    "\n",
    "# accéder à une des valeurs\n",
    "print(a[1,0])   # premier indice (axis=0) =numéro de ligne en commençant par 0\n",
    "                # 2eme indice (axis=1)  = numéro de colonne en commençant par 0\n",
    "\n",
    "# les slices fonctionnent\n",
    "# utiliser le \":\" pour sélectionner toutes les lignes / colonnes / ou axe si tenseur\n",
    "\n",
    "# sélection 3eme ligne \n",
    "print(a[2, :])\n",
    "\n",
    "# ATTENTION: on récupère un vecteur de shape (n,) et pas (n,1)\n",
    "print(a[2, :].shape)\n",
    "\n",
    "# sélection des colonnes numéros 1 à 2 (i.e. 2eme et 3eme colonnes)\n",
    "print(a[:, 1:3])\n",
    "print(a[:, 1:3].shape)\n",
    "\n"
   ]
  },
  {
   "cell_type": "code",
   "execution_count": 35,
   "metadata": {
    "collapsed": false
   },
   "outputs": [
    {
     "name": "stdout",
     "output_type": "stream",
     "text": [
      "[[ 0  1  2]\n",
      " [ 0  4  5]\n",
      " [ 0  7  8]\n",
      " [ 0 10 11]]\n",
      "[[ 0  1  2]\n",
      " [ 1  1  1]\n",
      " [ 0  7  8]\n",
      " [ 0 10 11]]\n",
      "[[ 0  1  2]\n",
      " [ 1  1  1]\n",
      " [-1 -7 -1]\n",
      " [ 0 10 11]]\n"
     ]
    }
   ],
   "source": [
    "# modification 1ere colonne\n",
    "a[:, 0] = np.zeros( shape=(4,)) \n",
    "print(a)\n",
    "\n",
    "# modification 2eme ligne\n",
    "a[1, :] = np.ones( shape=(3,)) \n",
    "print(a)\n",
    "\n",
    "# affectation directe d'un axe\n",
    "a[2, :] = [-1, -7, -1]\n",
    "print(a)\n"
   ]
  },
  {
   "cell_type": "code",
   "execution_count": 36,
   "metadata": {
    "collapsed": false
   },
   "outputs": [
    {
     "name": "stdout",
     "output_type": "stream",
     "text": [
      "[[[ 0  1]\n",
      "  [ 2  3]\n",
      "  [ 4  5]\n",
      "  [ 6  7]]\n",
      "\n",
      " [[ 8  9]\n",
      "  [10 11]\n",
      "  [12 13]\n",
      "  [14 15]]\n",
      "\n",
      " [[16 17]\n",
      "  [18 19]\n",
      "  [20 21]\n",
      "  [22 23]]]\n",
      "[[0 1]\n",
      " [2 3]\n",
      " [4 5]\n",
      " [6 7]]\n"
     ]
    }
   ],
   "source": [
    "# même principe pour des tableaux à n>2 dimensions\n",
    "\n",
    "t3 = np.array(range(24)).reshape(3,4,2)  ## 3 matrices de taille 4 x 2\n",
    "print(t3)\n",
    "\n",
    "print( t3[0,:,:] )"
   ]
  },
  {
   "cell_type": "markdown",
   "metadata": {},
   "source": [
    "## Tri : np.sort et np.argsort "
   ]
  },
  {
   "cell_type": "code",
   "execution_count": 37,
   "metadata": {
    "collapsed": false
   },
   "outputs": [
    {
     "name": "stdout",
     "output_type": "stream",
     "text": [
      "[[ 3 24 17]\n",
      " [ 8  2 16]]\n",
      "[[ 3 17 24]\n",
      " [ 2  8 16]]\n",
      "[[ 3  2 16]\n",
      " [ 8 24 17]]\n"
     ]
    }
   ],
   "source": [
    "a = np.array( [ 3 , 24, 17, 8, 2 ,16]).reshape(2,3)\n",
    "# tri en faisant varier les colonnes (axis=1) => tri de chaque ligne\n",
    "b = np.sort(a, axis=1)\n",
    "# tri en faisant varier les lignes (axis=0) => tri de chaque colonne\n",
    "c = np.sort(a, axis=0)\n",
    "print(a)\n",
    "print(b)\n",
    "print(c)"
   ]
  },
  {
   "cell_type": "code",
   "execution_count": 38,
   "metadata": {
    "collapsed": false
   },
   "outputs": [
    {
     "name": "stdout",
     "output_type": "stream",
     "text": [
      "[[0 2 1]\n",
      " [1 0 2]]\n"
     ]
    }
   ],
   "source": [
    "# en général, plutôt que les seules valeurs triées, \n",
    "# on veut les indices triés (qui donnent accès aussi aux valeurs)\n",
    "b = np.argsort(a, axis=1)\n",
    "print(b)\n",
    "[ a[0,i] for i in b[0]]\n",
    "\n",
    "c = np.argsort(a, axis=0)\n",
    "# QUESTION: que va valoir c ?"
   ]
  },
  {
   "cell_type": "markdown",
   "metadata": {},
   "source": [
    "## Application d'une fonction à chq élément d'un tenseur"
   ]
  },
  {
   "cell_type": "markdown",
   "metadata": {},
   "source": [
    "### Opérations entre tenseur et scalaire"
   ]
  },
  {
   "cell_type": "code",
   "execution_count": 39,
   "metadata": {
    "collapsed": false
   },
   "outputs": [
    {
     "name": "stdout",
     "output_type": "stream",
     "text": [
      "[[0 1 2]\n",
      " [3 4 5]]\n",
      "[[10 11 12]\n",
      " [13 14 15]]\n",
      "[[ 0 10 20]\n",
      " [30 40 50]]\n",
      "[[0.  0.1 0.2]\n",
      " [0.3 0.4 0.5]]\n",
      "[[ 0  1  4]\n",
      " [ 9 16 25]]\n"
     ]
    }
   ],
   "source": [
    "# multiplication par un scalaire, ajout d'un scalaire etc...\n",
    "a = np.array(range(6)).reshape(2,3)\n",
    "\n",
    "print(a)\n",
    "\n",
    "print(a + 10)\n",
    "print(a * 10)\n",
    "print(a / 10.0)\n",
    "print(a**2)"
   ]
  },
  {
   "cell_type": "markdown",
   "metadata": {},
   "source": [
    "### Application d'une fonction prédéfinie sur chaque élément"
   ]
  },
  {
   "cell_type": "code",
   "execution_count": 40,
   "metadata": {
    "collapsed": false
   },
   "outputs": [
    {
     "name": "stdout",
     "output_type": "stream",
     "text": [
      "[[1 2 3 4]\n",
      " [5 6 7 8]]\n",
      "[[0.         1.         1.5849625  2.        ]\n",
      " [2.32192809 2.5849625  2.80735492 3.        ]]\n"
     ]
    }
   ],
   "source": [
    "# Voir la liste des fonctions numpy \n",
    "# https://docs.scipy.org/doc/numpy-1.14.2/reference/routines.math.html\n",
    "\n",
    "a = np.array(range(8)).reshape(2,4) + 1\n",
    "print(a)\n",
    "print(np.log2(a)) # on applique le log à base 2 à chaque cellule"
   ]
  },
  {
   "cell_type": "markdown",
   "metadata": {},
   "source": [
    "### Application d'une fonction user sur chaque élément"
   ]
  },
  {
   "cell_type": "code",
   "execution_count": 41,
   "metadata": {
    "collapsed": false
   },
   "outputs": [
    {
     "name": "stdout",
     "output_type": "stream",
     "text": [
      "[[0 1 2]\n",
      " [3 4 5]]\n",
      "[[ 0  2  7]\n",
      " [10 13 16]]\n"
     ]
    }
   ],
   "source": [
    "# np.vectorize permet de définir la version \"vectorisée\" d'une fonction f, \n",
    "# i.e. s'appliquant élément par élément\n",
    "\n",
    "def my_f(x):\n",
    "    if (x<2):\n",
    "        return 2 * x\n",
    "    else:\n",
    "        return 3 * x+1\n",
    "my_f_vec = np.vectorize(my_f)\n",
    "\n",
    "a = np.array(range(6)).reshape(2,3)\n",
    "print(a)\n",
    "print(my_f_vec(a))\n",
    "\n",
    "# QUESTION: que vaut a * f_vec(a) ?"
   ]
  },
  {
   "cell_type": "markdown",
   "metadata": {},
   "source": [
    "### Application d'une fonction sur un axe (ligne ou col...)"
   ]
  },
  {
   "cell_type": "code",
   "execution_count": 42,
   "metadata": {
    "collapsed": false
   },
   "outputs": [
    {
     "name": "stdout",
     "output_type": "stream",
     "text": [
      "[[0 1 2]\n",
      " [3 4 5]]\n"
     ]
    },
    {
     "data": {
      "text/plain": [
       "array([ 3, 12])"
      ]
     },
     "execution_count": 42,
     "metadata": {},
     "output_type": "execute_result"
    }
   ],
   "source": [
    "a = np.array(range(6)).reshape(2,3)\n",
    "print(a)\n",
    "\n",
    "np.sum(a)          # somme sur tous les éléments de a (axis=None)\n",
    "np.sum(a, axis=0)  # somme \"en faisant varier les lignes\" => somme de toute une colonne\n",
    "np.sum(a, axis=1)  # somme sur les colonnes => somme de toute une ligne\n",
    "np.sum(a, axis=-1) # axis=-1 ===> dernier axe, ici = 1\n"
   ]
  },
  {
   "cell_type": "markdown",
   "metadata": {},
   "source": [
    "## Opérations entre matrice et vecteur"
   ]
  },
  {
   "cell_type": "code",
   "execution_count": 43,
   "metadata": {
    "collapsed": false
   },
   "outputs": [
    {
     "name": "stdout",
     "output_type": "stream",
     "text": [
      "[[ 0  1  2  3]\n",
      " [ 4  5  6  7]\n",
      " [ 8  9 10 11]]\n",
      "vecteur c: [2 3 4 5]\n",
      "a + c: \n",
      " [[ 2  4  6  8]\n",
      " [ 6  8 10 12]\n",
      " [10 12 14 16]]\n",
      "a * c: \n",
      " [[  0  -3  -8 -15]\n",
      " [ -8 -15 -24 -35]\n",
      " [-16 -27 -40 -55]]\n"
     ]
    }
   ],
   "source": [
    "# matrice et vecteur (=> le vecteur est pris comme une LIGNE)\n",
    "a = np.array(range(12)).reshape((3,4))\n",
    "print(a)\n",
    "\n",
    "c = np.array(range(4)).reshape((4,)) + 2\n",
    "print( \"vecteur c:\", c )\n",
    "print( \"a + c: \\n\", a + c )\n",
    "# QUESTION: décrire comment est calculé a * d\n",
    "\n",
    "# même fonctionnement pour - / * \n",
    "print( \"a * c: \\n\", - a * c )  \n"
   ]
  },
  {
   "cell_type": "code",
   "execution_count": 44,
   "metadata": {
    "collapsed": false
   },
   "outputs": [
    {
     "name": "stdout",
     "output_type": "stream",
     "text": [
      "[[ 0  1  2  3]\n",
      " [ 4  5  6  7]\n",
      " [ 8  9 10 11]]\n",
      "c:  [0 1 2]\n",
      "[[0]\n",
      " [1]\n",
      " [2]]\n",
      "[[ 0  0  0  0]\n",
      " [ 4  5  6  7]\n",
      " [16 18 20 22]]\n"
     ]
    }
   ],
   "source": [
    "# pour faire une opération entre une matrice et un vecteur \"en colonnes\"\n",
    "# il faut convertir celui-ci en vraie matrice à une seule colonne\n",
    "a = np.array(range(12)).reshape((3,4))\n",
    "print(a)\n",
    "c = np.array(range(3)).reshape((3,))\n",
    "\n",
    "print(\"c: \", c)\n",
    "#print(a * c)  # erreur , pourquoi?\n",
    "d = c[:, np.newaxis]\n",
    "print(d)\n",
    "print(a * d)\n",
    "\n",
    "# QUESTION: décrire comment est calculé a * d"
   ]
  },
  {
   "cell_type": "markdown",
   "metadata": {},
   "source": [
    "## Opérations entre matrices"
   ]
  },
  {
   "cell_type": "code",
   "execution_count": 45,
   "metadata": {
    "collapsed": true
   },
   "outputs": [],
   "source": [
    "### Opérations terme à terme, ou \"composante par composante\" (=element-wise)"
   ]
  },
  {
   "cell_type": "code",
   "execution_count": 46,
   "metadata": {
    "collapsed": false
   },
   "outputs": [
    {
     "name": "stdout",
     "output_type": "stream",
     "text": [
      "[[ 0  1  2  3]\n",
      " [ 4  5  6  7]\n",
      " [ 8  9 10 11]]\n",
      "[[ 2  3  4  5]\n",
      " [ 6  7  8  9]\n",
      " [10 11 12 13]]\n",
      "[[0.         0.33333333 0.5        0.6       ]\n",
      " [0.66666667 0.71428571 0.75       0.77777778]\n",
      " [0.8        0.81818182 0.83333333 0.84615385]]\n",
      "[[  0   3   8  15]\n",
      " [ 24  35  48  63]\n",
      " [ 80  99 120 143]]\n"
     ]
    }
   ],
   "source": [
    "a = np.array(range(12)).reshape((3,4))\n",
    "print(a)\n",
    "\n",
    "b = np.array(range(12)).reshape((3,4)) + 2\n",
    "print(b)\n",
    "\n",
    "print (a / b)\n",
    "\n",
    "print(a * b) # = produit de Hadamard\n"
   ]
  },
  {
   "cell_type": "markdown",
   "metadata": {},
   "source": [
    "### Produit matriciel \"ordinaire\" = produit scalaire matriciel = \"dot product\" = \"inner product\""
   ]
  },
  {
   "cell_type": "markdown",
   "metadata": {},
   "source": [
    "**Fondamental**: \n",
    "\n",
    "C = AB  (noté aussi C= A.B) \n",
    "\n",
    "**C\\[i,j\\] vaut le produit scalaire de iième LIGNE de A et jième colonne de B**\n",
    "\n",
    "A.B n'est défini que si le nombre de colonnes de A vaut le nb de lignes de B\n",
    "\n",
    "(un dessin permet de ne pas se tromper!)\n"
   ]
  },
  {
   "cell_type": "code",
   "execution_count": 47,
   "metadata": {
    "collapsed": false
   },
   "outputs": [
    {
     "name": "stdout",
     "output_type": "stream",
     "text": [
      "[[0 1 2]\n",
      " [3 4 5]]\n",
      "[[ 0  1  2  3]\n",
      " [ 4  5  6  7]\n",
      " [ 8  9 10 11]]\n",
      "[[20 23 26 29]\n",
      " [56 68 80 92]]\n"
     ]
    }
   ],
   "source": [
    "a = np.array(range(6)).reshape(2,3)\n",
    "b = np.array(range(12)).reshape(3,4)\n",
    "c = np.dot(a,b)\n",
    "print(a)\n",
    "print(b)\n",
    "print(c)\n"
   ]
  },
  {
   "cell_type": "code",
   "execution_count": 48,
   "metadata": {
    "collapsed": false
   },
   "outputs": [
    {
     "name": "stdout",
     "output_type": "stream",
     "text": [
      "[[0 1 2]\n",
      " [3 4 5]]\n",
      "[[ 0  1  2]\n",
      " [ 3  4  5]\n",
      " [ 6  7  8]\n",
      " [ 9 10 11]]\n",
      "[[  5  14  23  32]\n",
      " [ 14  50  86 122]]\n"
     ]
    }
   ],
   "source": [
    "# TODO: étudiez les opérations ci-dessous\n",
    "\n",
    "a = np.array(range(6)).reshape(2,3)\n",
    "b = np.array(range(12)).reshape(4,3)\n",
    "c = np.dot(a, b.transpose())\n",
    "print(a)\n",
    "print(b)\n",
    "print(c)"
   ]
  },
  {
   "cell_type": "markdown",
   "metadata": {},
   "source": [
    "## Produit (ordinaire) d'un vecteur et d'une matrice"
   ]
  },
  {
   "cell_type": "code",
   "execution_count": 50,
   "metadata": {
    "collapsed": false
   },
   "outputs": [
    {
     "name": "stdout",
     "output_type": "stream",
     "text": [
      "[[0 1]\n",
      " [2 3]\n",
      " [4 5]]\n",
      "[10 11 12]\n",
      "[ 70 103]\n",
      "(2,)\n"
     ]
    },
    {
     "ename": "ValueError",
     "evalue": "shapes (3,2) and (3,) not aligned: 2 (dim 1) != 3 (dim 0)",
     "output_type": "error",
     "traceback": [
      "\u001b[1;31m---------------------------------------------------------------------------\u001b[0m",
      "\u001b[1;31mValueError\u001b[0m                                Traceback (most recent call last)",
      "\u001b[1;32m<ipython-input-50-009ca922418a>\u001b[0m in \u001b[0;36m<module>\u001b[1;34m()\u001b[0m\n\u001b[0;32m     14\u001b[0m \u001b[0mprint\u001b[0m\u001b[1;33m(\u001b[0m\u001b[0md\u001b[0m\u001b[1;33m.\u001b[0m\u001b[0mshape\u001b[0m\u001b[1;33m)\u001b[0m\u001b[1;33m\u001b[0m\u001b[0m\n\u001b[0;32m     15\u001b[0m \u001b[1;33m\u001b[0m\u001b[0m\n\u001b[1;32m---> 16\u001b[1;33m \u001b[0mprint\u001b[0m\u001b[1;33m(\u001b[0m\u001b[0mnp\u001b[0m\u001b[1;33m.\u001b[0m\u001b[0mdot\u001b[0m\u001b[1;33m(\u001b[0m\u001b[0mM\u001b[0m\u001b[1;33m,\u001b[0m\u001b[0mv\u001b[0m\u001b[1;33m)\u001b[0m\u001b[1;33m)\u001b[0m \u001b[1;31m# erreur, POURQUOI?\u001b[0m\u001b[1;33m\u001b[0m\u001b[0m\n\u001b[0m",
      "\u001b[1;31mValueError\u001b[0m: shapes (3,2) and (3,) not aligned: 2 (dim 1) != 3 (dim 0)"
     ]
    }
   ],
   "source": [
    "# la fonction np.dot effectue des reshape implicites \n",
    "# si un argument est un tableau unidimensionnel\n",
    "\n",
    "# si x est un vecteur de taille n, i.e. un ndarray de shape (n,)\n",
    "\n",
    "# alors si x est premier argument de np.dot \n",
    "# => reshape en vecteur ligne: (1,n)\n",
    "M = np.arange(6).reshape(3,2)\n",
    "v = np.eExemplarange(3) + 10\n",
    "print(M)\n",
    "print(v)\n",
    "d = np.dot(v,M)\n",
    "print(d)\n",
    "print(d.shape)\n",
    "\n",
    "print(np.dot(M,v)) # erreur, POURQUOI?"
   ]
  },
  {
   "cell_type": "code",
   "execution_count": null,
   "metadata": {
    "collapsed": true
   },
   "outputs": [],
   "source": [
    "print(M.transpose())\n",
    "print(v)\n",
    "print (np.dot(M.transpose(),v))"
   ]
  },
  {
   "cell_type": "code",
   "execution_count": null,
   "metadata": {
    "collapsed": true
   },
   "outputs": [],
   "source": [
    "# si x est 2eme argument de np.dot => reshape en vecteur colonne: (n,1)\n",
    "M = np.arange(6).reshape(2,3)\n",
    "v = np.arange(3) + 10\n",
    "print(M)\n",
    "print(v)\n",
    "print(np.dot(M,v))"
   ]
  }
 ],
 "metadata": {
  "kernelspec": {
   "display_name": "Python 3",
   "language": "python",
   "name": "python3"
  },
  "language_info": {
   "codemirror_mode": {
    "name": "ipython",
    "version": 3
   },
   "file_extension": ".py",
   "mimetype": "text/x-python",
   "name": "python",
   "nbconvert_exporter": "python",
   "pygments_lexer": "ipython3",
   "version": "3.5.4"
  }
 },
 "nbformat": 4,
 "nbformat_minor": 2
}
