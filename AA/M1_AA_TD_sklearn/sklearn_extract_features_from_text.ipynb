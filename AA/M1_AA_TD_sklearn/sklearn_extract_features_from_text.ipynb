{
 "cells": [
  {
   "cell_type": "markdown",
   "metadata": {},
   "source": [
    "## Familiarisation avec les modules sklearn de chargement de textes\n",
    "\n",
    "Scikit-learn fournit des modules permettant de transformer une collection de documents en matrices de représentations de type \"**bag of words**\".\n",
    "\n",
    "La clé est que les matrices construites utilisent le type scipy.sparse, adapté pour les **matrices creuses**.\n",
    "\n",
    "Ces modules font au choix\n",
    "- le calcul du vocabulaire (la correspondance entre mots et id de mots) (méthode fit)\n",
    "- la transformation de documents en matrices de comptes d'occurrences (méthode transform)\n",
    "- ou les 2 à la fois (fit_transform)\n"
   ]
  },
  {
   "cell_type": "code",
   "execution_count": 35,
   "metadata": {
    "collapsed": false
   },
   "outputs": [
    {
     "name": "stdout",
     "output_type": "stream",
     "text": [
      "<class 'scipy.sparse.csr.csr_matrix'>\n",
      "(4, 17)\n",
      "  (0, 3)\t1\n",
      "  (0, 14)\t1\n",
      "  (0, 5)\t1\n",
      "  (0, 1)\t1\n",
      "  (1, 10)\t1\n",
      "  (1, 16)\t1\n",
      "  (1, 4)\t1\n",
      "  (1, 2)\t2\n",
      "  (1, 0)\t1\n",
      "  (1, 14)\t1\n",
      "  (1, 5)\t1\n",
      "  (2, 13)\t1\n",
      "  (2, 9)\t1\n",
      "  (2, 15)\t1\n",
      "  (2, 7)\t1\n",
      "  (3, 8)\t1\n",
      "  (3, 11)\t1\n",
      "  (3, 6)\t1\n",
      "  (3, 12)\t1\n",
      "  (3, 9)\t2\n",
      "  (3, 2)\t1\n",
      "[[0 1 0 1 0 1 0 0 0 0 0 0 0 0 1 0 0]\n",
      " [1 0 2 0 1 1 0 0 0 0 1 0 0 0 1 0 1]\n",
      " [0 0 0 0 0 0 0 1 0 1 0 0 0 1 0 1 0]\n",
      " [0 0 1 0 0 0 1 0 1 2 0 1 1 0 0 0 0]]\n"
     ]
    }
   ],
   "source": [
    "# https://scikit-learn.org/stable/modules/generated/sklearn.feature_extraction.text.CountVectorizer.html\n",
    "from sklearn.feature_extraction.text import CountVectorizer, TfidfTransformer\n",
    "train_corpus = [\n",
    "     'Ceci est un document.',\n",
    "     'Ce document est encore un document à moi.',\n",
    "     'Et voilà le troisième.',\n",
    "     'Le premier document est-il le plus intéressant?',\n",
    "\n",
    " ]\n",
    "vectorizer = CountVectorizer(token_pattern=r\"[^ ]+\")\n",
    "# le vectorizer est vide\n",
    "#print(vectorizer.vocabulary_)\n",
    "#print(vectorizer.get_feature_names())\n",
    "\n",
    "# on le remplit, tout en transformant les données de train \n",
    "X_train = vectorizer.fit_transform(train_corpus)\n",
    "\n",
    "# la matrice est une matrice creuse\n",
    "print(type(X_train))\n",
    "print(X_train.shape)\n",
    "print(X_train)\n",
    "\n",
    "# la voici rétablie en matrice complète\n",
    "print(X_train.toarray()) "
   ]
  },
  {
   "cell_type": "code",
   "execution_count": 36,
   "metadata": {
    "collapsed": false
   },
   "outputs": [
    {
     "name": "stdout",
     "output_type": "stream",
     "text": [
      "{'ce': 0, 'document.': 3, 'et': 7, 'est': 5, 'le': 9, 'un': 14, 'plus': 11, 'ceci': 1, 'document': 2, 'intéressant?': 8, 'troisième.': 13, 'est-il': 6, 'encore': 4, 'moi.': 10, 'premier': 12, 'voilà': 15, 'à': 16}\n",
      "['ce', 'ceci', 'document', 'document.', 'encore', 'est', 'est-il', 'et', 'intéressant?', 'le', 'moi.', 'plus', 'premier', 'troisième.', 'un', 'voilà', 'à']\n",
      "(2, 17)\n",
      "{'ce': 0, 'document.': 3, 'et': 7, 'est': 5, 'le': 9, 'un': 14, 'plus': 11, 'ceci': 1, 'document': 2, 'intéressant?': 8, 'troisième.': 13, 'est-il': 6, 'encore': 4, 'moi.': 10, 'premier': 12, 'voilà': 15, 'à': 16}\n",
      "['ce', 'ceci', 'document', 'document.', 'encore', 'est', 'est-il', 'et', 'intéressant?', 'le', 'moi.', 'plus', 'premier', 'troisième.', 'un', 'voilà', 'à']\n"
     ]
    }
   ],
   "source": [
    "# le mapping appris entre mots et id de mots\n",
    "print(vectorizer.vocabulary_)\n",
    "print(vectorizer.get_feature_names())\n",
    "\n",
    "test_corpus = [ 'Ah un nouveau document.',\n",
    "              'Et ceci est encore un document.']\n",
    "\n",
    "X_test = vectorizer.transform(test_corpus)\n",
    "print(X_test.shape)\n",
    "print(vectorizer.vocabulary_)\n",
    "print(vectorizer.get_feature_names())"
   ]
  },
  {
   "cell_type": "code",
   "execution_count": 41,
   "metadata": {
    "collapsed": false
   },
   "outputs": [
    {
     "name": "stdout",
     "output_type": "stream",
     "text": [
      "\n",
      "MEMBRES: {'analyzer': 'word', 'max_features': None, 'preprocessor': None, 'vocabulary_': {'intéressant': 9, 'ce': 3, '-il': 0, 'troisième': 14, 'et': 8, 'est': 7, 'moi': 11, 'le': 10, 'un': 15, 'plus': 12, '.': 1, 'ceci': 4, 'document': 5, 'encore': 6, '?': 2, 'premier': 13, 'voilà': 16, 'à': 17}, 'max_df': 1.0, 'decode_error': 'strict', 'stop_words': None, 'strip_accents': None, 'binary': False, 'dtype': <class 'numpy.int64'>, 'token_pattern': '[^ ]+', 'input': 'content', 'tokenizer': None, 'vocabulary': None, 'lowercase': True, 'min_df': 1, 'encoding': 'utf-8', 'fixed_vocabulary_': False, '_stop_words_id': 94436103786736, 'ngram_range': (1, 1), 'stop_words_': set()}\n",
      "{'intéressant': 9, 'ce': 3, '-il': 0, 'troisième': 14, 'et': 8, 'est': 7, 'moi': 11, 'le': 10, 'un': 15, 'plus': 12, '.': 1, 'ceci': 4, 'document': 5, 'encore': 6, '?': 2, 'premier': 13, 'voilà': 16, 'à': 17}\n",
      "['-il', '.', '?', 'ce', 'ceci', 'document', 'encore', 'est', 'et', 'intéressant', 'le', 'moi', 'plus', 'premier', 'troisième', 'un', 'voilà', 'à']\n"
     ]
    },
    {
     "ename": "ValueError",
     "evalue": "Expected 2D array, got 1D array instead:\narray=['Ceci est un document .' 'Ce document est encore un document à moi .'\n 'Et voilà le troisième .'\n 'Le premier document est -il le plus intéressant ?'].\nReshape your data either using array.reshape(-1, 1) if your data has a single feature or array.reshape(1, -1) if it contains a single sample.",
     "output_type": "error",
     "traceback": [
      "\u001b[1;31m---------------------------------------------------------------------------\u001b[0m",
      "\u001b[1;31mValueError\u001b[0m                                Traceback (most recent call last)",
      "\u001b[1;32m<ipython-input-41-55f5084f532a>\u001b[0m in \u001b[0;36m<module>\u001b[1;34m()\u001b[0m\n\u001b[0;32m     27\u001b[0m \u001b[1;31m# Cherchez ce qu'est une pondération TF.IDF\u001b[0m\u001b[1;33m\u001b[0m\u001b[1;33m\u001b[0m\u001b[0m\n\u001b[0;32m     28\u001b[0m \u001b[0mtfidf\u001b[0m \u001b[1;33m=\u001b[0m \u001b[0mTfidfTransformer\u001b[0m\u001b[1;33m(\u001b[0m\u001b[1;33m)\u001b[0m\u001b[1;33m\u001b[0m\u001b[0m\n\u001b[1;32m---> 29\u001b[1;33m \u001b[0mprint\u001b[0m\u001b[1;33m(\u001b[0m\u001b[0mtfidf\u001b[0m\u001b[1;33m.\u001b[0m\u001b[0mfit_transform\u001b[0m\u001b[1;33m(\u001b[0m\u001b[0mtrain_corpus\u001b[0m\u001b[1;33m)\u001b[0m\u001b[1;33m)\u001b[0m\u001b[1;33m\u001b[0m\u001b[0m\n\u001b[0m",
      "\u001b[1;32m/usr/local/anaconda3/lib/python3.5/site-packages/sklearn/base.py\u001b[0m in \u001b[0;36mfit_transform\u001b[1;34m(self, X, y, **fit_params)\u001b[0m\n\u001b[0;32m    460\u001b[0m         \u001b[1;32mif\u001b[0m \u001b[0my\u001b[0m \u001b[1;32mis\u001b[0m \u001b[1;32mNone\u001b[0m\u001b[1;33m:\u001b[0m\u001b[1;33m\u001b[0m\u001b[0m\n\u001b[0;32m    461\u001b[0m             \u001b[1;31m# fit method of arity 1 (unsupervised transformation)\u001b[0m\u001b[1;33m\u001b[0m\u001b[1;33m\u001b[0m\u001b[0m\n\u001b[1;32m--> 462\u001b[1;33m             \u001b[1;32mreturn\u001b[0m \u001b[0mself\u001b[0m\u001b[1;33m.\u001b[0m\u001b[0mfit\u001b[0m\u001b[1;33m(\u001b[0m\u001b[0mX\u001b[0m\u001b[1;33m,\u001b[0m \u001b[1;33m**\u001b[0m\u001b[0mfit_params\u001b[0m\u001b[1;33m)\u001b[0m\u001b[1;33m.\u001b[0m\u001b[0mtransform\u001b[0m\u001b[1;33m(\u001b[0m\u001b[0mX\u001b[0m\u001b[1;33m)\u001b[0m\u001b[1;33m\u001b[0m\u001b[0m\n\u001b[0m\u001b[0;32m    463\u001b[0m         \u001b[1;32melse\u001b[0m\u001b[1;33m:\u001b[0m\u001b[1;33m\u001b[0m\u001b[0m\n\u001b[0;32m    464\u001b[0m             \u001b[1;31m# fit method of arity 2 (supervised transformation)\u001b[0m\u001b[1;33m\u001b[0m\u001b[1;33m\u001b[0m\u001b[0m\n",
      "\u001b[1;32m/usr/local/anaconda3/lib/python3.5/site-packages/sklearn/feature_extraction/text.py\u001b[0m in \u001b[0;36mfit\u001b[1;34m(self, X, y)\u001b[0m\n\u001b[0;32m   1205\u001b[0m             \u001b[0ma\u001b[0m \u001b[0mmatrix\u001b[0m \u001b[0mof\u001b[0m \u001b[0mterm\u001b[0m\u001b[1;33m/\u001b[0m\u001b[0mtoken\u001b[0m \u001b[0mcounts\u001b[0m\u001b[1;33m\u001b[0m\u001b[0m\n\u001b[0;32m   1206\u001b[0m         \"\"\"\n\u001b[1;32m-> 1207\u001b[1;33m         \u001b[0mX\u001b[0m \u001b[1;33m=\u001b[0m \u001b[0mcheck_array\u001b[0m\u001b[1;33m(\u001b[0m\u001b[0mX\u001b[0m\u001b[1;33m,\u001b[0m \u001b[0maccept_sparse\u001b[0m\u001b[1;33m=\u001b[0m\u001b[1;33m(\u001b[0m\u001b[1;34m'csr'\u001b[0m\u001b[1;33m,\u001b[0m \u001b[1;34m'csc'\u001b[0m\u001b[1;33m)\u001b[0m\u001b[1;33m)\u001b[0m\u001b[1;33m\u001b[0m\u001b[0m\n\u001b[0m\u001b[0;32m   1208\u001b[0m         \u001b[1;32mif\u001b[0m \u001b[1;32mnot\u001b[0m \u001b[0msp\u001b[0m\u001b[1;33m.\u001b[0m\u001b[0missparse\u001b[0m\u001b[1;33m(\u001b[0m\u001b[0mX\u001b[0m\u001b[1;33m)\u001b[0m\u001b[1;33m:\u001b[0m\u001b[1;33m\u001b[0m\u001b[0m\n\u001b[0;32m   1209\u001b[0m             \u001b[0mX\u001b[0m \u001b[1;33m=\u001b[0m \u001b[0msp\u001b[0m\u001b[1;33m.\u001b[0m\u001b[0mcsr_matrix\u001b[0m\u001b[1;33m(\u001b[0m\u001b[0mX\u001b[0m\u001b[1;33m)\u001b[0m\u001b[1;33m\u001b[0m\u001b[0m\n",
      "\u001b[1;32m/usr/local/anaconda3/lib/python3.5/site-packages/sklearn/utils/validation.py\u001b[0m in \u001b[0;36mcheck_array\u001b[1;34m(array, accept_sparse, accept_large_sparse, dtype, order, copy, force_all_finite, ensure_2d, allow_nd, ensure_min_samples, ensure_min_features, warn_on_dtype, estimator)\u001b[0m\n\u001b[0;32m    545\u001b[0m                     \u001b[1;34m\"Reshape your data either using array.reshape(-1, 1) if \"\u001b[0m\u001b[1;33m\u001b[0m\u001b[0m\n\u001b[0;32m    546\u001b[0m                     \u001b[1;34m\"your data has a single feature or array.reshape(1, -1) \"\u001b[0m\u001b[1;33m\u001b[0m\u001b[0m\n\u001b[1;32m--> 547\u001b[1;33m                     \"if it contains a single sample.\".format(array))\n\u001b[0m\u001b[0;32m    548\u001b[0m \u001b[1;33m\u001b[0m\u001b[0m\n\u001b[0;32m    549\u001b[0m         \u001b[1;31m# in the future np.flexible dtypes will be handled like object dtypes\u001b[0m\u001b[1;33m\u001b[0m\u001b[1;33m\u001b[0m\u001b[0m\n",
      "\u001b[1;31mValueError\u001b[0m: Expected 2D array, got 1D array instead:\narray=['Ceci est un document .' 'Ce document est encore un document à moi .'\n 'Et voilà le troisième .'\n 'Le premier document est -il le plus intéressant ?'].\nReshape your data either using array.reshape(-1, 1) if your data has a single feature or array.reshape(1, -1) if it contains a single sample."
     ]
    }
   ],
   "source": [
    "# QUESTIONS:\n",
    "\n",
    "# Que se passe-t-il pour les mots du test_corpus non présents dans le train_corpus?\n",
    "# Comparez avec :\n",
    "# vectorizer.fit(test_corpus)\n",
    "# vectorizer.fit_transform(test_corpus)\n",
    "\n",
    "# comment changer la tokenisation effectuee? (lors de la création de l'instance de CountVectorizer)\n",
    "# en particulier, comment simplement splitter sur les espaces (en supposant donc que les textes sont déjà tokenisés)\n",
    "# aide: pour voir tous les membres de l'instance, et en déduire quel membre modifier:\n",
    "print(\"\\nMEMBRES:\", vectorizer.__dict__)\n",
    "\n",
    "train_corpus = [\n",
    "     'Ceci est un document .',\n",
    "     'Ce document est encore un document à moi .',\n",
    "     'Et voilà le troisième .',\n",
    "     'Le premier document est -il le plus intéressant ?',\n",
    " ]\n",
    "X_train = vectorizer.fit_transform(train_corpus)\n",
    "\n",
    "print(vectorizer.vocabulary_)\n",
    "print(vectorizer.get_feature_names())\n",
    "\n",
    "# étudiez la classe TfidfTransformer\n",
    "# https://scikit-learn.org/stable/modules/generated/sklearn.feature_extraction.text.TfidfTransformer.html\n",
    "# en déduire comment passer à des vecteurs normalisés\n",
    "# Cherchez ce qu'est une pondération TF.IDF\n",
    "tfidf = TfidfTransformer()\n",
    "print(tfidf.fit_transform(train_corpus))"
   ]
  },
  {
   "cell_type": "code",
   "execution_count": null,
   "metadata": {
    "collapsed": true
   },
   "outputs": [],
   "source": []
  }
 ],
 "metadata": {
  "kernelspec": {
   "display_name": "Python 3",
   "language": "python",
   "name": "python3"
  },
  "language_info": {
   "codemirror_mode": {
    "name": "ipython",
    "version": 3
   },
   "file_extension": ".py",
   "mimetype": "text/x-python",
   "name": "python",
   "nbconvert_exporter": "python",
   "pygments_lexer": "ipython3",
   "version": "3.5.4"
  }
 },
 "nbformat": 4,
 "nbformat_minor": 2
}
