{
 "cells": [
  {
   "cell_type": "markdown",
   "metadata": {},
   "source": [
    "## Familiarisation avec les modules sklearn de chargement de textes\n",
    "\n",
    "Scikit-learn fournit des modules permettant de transformer une collection de documents en matrices de représentations de type \"**bag of words**\".\n",
    "\n",
    "La clé est que les matrices construites utilisent le type scipy.sparse, adapté pour les **matrices creuses**.\n",
    "\n",
    "Ces modules font au choix\n",
    "- le calcul du vocabulaire (la correspondance entre mots et id de mots) (méthode fit)\n",
    "- la transformation de documents en matrices de comptes d'occurrences (méthode transform)\n",
    "- ou les 2 à la fois (fit_transform)\n"
   ]
  },
  {
   "cell_type": "code",
   "execution_count": 35,
   "metadata": {
    "collapsed": false
   },
   "outputs": [
    {
     "name": "stdout",
     "output_type": "stream",
     "text": [
      "<class 'scipy.sparse.csr.csr_matrix'>\n",
      "(4, 17)\n",
      "  (0, 3)\t1\n",
      "  (0, 14)\t1\n",
      "  (0, 5)\t1\n",
      "  (0, 1)\t1\n",
      "  (1, 10)\t1\n",
      "  (1, 16)\t1\n",
      "  (1, 4)\t1\n",
      "  (1, 2)\t2\n",
      "  (1, 0)\t1\n",
      "  (1, 14)\t1\n",
      "  (1, 5)\t1\n",
      "  (2, 13)\t1\n",
      "  (2, 9)\t1\n",
      "  (2, 15)\t1\n",
      "  (2, 7)\t1\n",
      "  (3, 8)\t1\n",
      "  (3, 11)\t1\n",
      "  (3, 6)\t1\n",
      "  (3, 12)\t1\n",
      "  (3, 9)\t2\n",
      "  (3, 2)\t1\n",
      "[[0 1 0 1 0 1 0 0 0 0 0 0 0 0 1 0 0]\n",
      " [1 0 2 0 1 1 0 0 0 0 1 0 0 0 1 0 1]\n",
      " [0 0 0 0 0 0 0 1 0 1 0 0 0 1 0 1 0]\n",
      " [0 0 1 0 0 0 1 0 1 2 0 1 1 0 0 0 0]]\n"
     ]
    }
   ],
   "source": [
    "# https://scikit-learn.org/stable/modules/generated/sklearn.feature_extraction.text.CountVectorizer.html\n",
    "from sklearn.feature_extraction.text import CountVectorizer, TfidfTransformer\n",
    "train_corpus = [\n",
    "     'Ceci est un document.',\n",
    "     'Ce document est encore un document à moi.',\n",
    "     'Et voilà le troisième.',\n",
    "     'Le premier document est-il le plus intéressant?',\n",
    "\n",
    " ]\n",
    "vectorizer = CountVectorizer(token_pattern=r\"[^ ]+\")\n",
    "# le vectorizer est vide\n",
    "#print(vectorizer.vocabulary_)\n",
    "#print(vectorizer.get_feature_names())\n",
    "\n",
    "# on le remplit, tout en transformant les données de train \n",
    "X_train = vectorizer.fit_transform(train_corpus)\n",
    "\n",
    "# la matrice est une matrice creuse\n",
    "print(type(X_train))\n",
    "print(X_train.shape)\n",
    "print(X_train)\n",
    "\n",
    "# la voici rétablie en matrice complète\n",
    "print(X_train.toarray()) "
   ]
  },
  {
   "cell_type": "code",
   "execution_count": 36,
   "metadata": {
    "collapsed": false
   },
   "outputs": [
    {
     "name": "stdout",
     "output_type": "stream",
     "text": [
      "{'ce': 0, 'document.': 3, 'et': 7, 'est': 5, 'le': 9, 'un': 14, 'plus': 11, 'ceci': 1, 'document': 2, 'intéressant?': 8, 'troisième.': 13, 'est-il': 6, 'encore': 4, 'moi.': 10, 'premier': 12, 'voilà': 15, 'à': 16}\n",
      "['ce', 'ceci', 'document', 'document.', 'encore', 'est', 'est-il', 'et', 'intéressant?', 'le', 'moi.', 'plus', 'premier', 'troisième.', 'un', 'voilà', 'à']\n",
      "(2, 17)\n",
      "{'ce': 0, 'document.': 3, 'et': 7, 'est': 5, 'le': 9, 'un': 14, 'plus': 11, 'ceci': 1, 'document': 2, 'intéressant?': 8, 'troisième.': 13, 'est-il': 6, 'encore': 4, 'moi.': 10, 'premier': 12, 'voilà': 15, 'à': 16}\n",
      "['ce', 'ceci', 'document', 'document.', 'encore', 'est', 'est-il', 'et', 'intéressant?', 'le', 'moi.', 'plus', 'premier', 'troisième.', 'un', 'voilà', 'à']\n"
     ]
    }
   ],
   "source": [
    "# le mapping appris entre mots et id de mots\n",
    "print(vectorizer.vocabulary_)\n",
    "print(vectorizer.get_feature_names())\n",
    "\n",
    "test_corpus = [ 'Ah un nouveau document.',\n",
    "              'Et ceci est encore un document.']\n",
    "\n",
    "X_test = vectorizer.transform(test_corpus)\n",
    "print(X_test.shape)\n",
    "print(vectorizer.vocabulary_)\n",
    "print(vectorizer.get_feature_names())"
   ]
  },
  {
   "cell_type": "code",
   "execution_count": 40,
   "metadata": {
    "collapsed": false
   },
   "outputs": [
    {
     "name": "stdout",
     "output_type": "stream",
     "text": [
      "\n",
      "MEMBRES: {'analyzer': 'word', 'max_features': None, 'preprocessor': None, 'vocabulary_': {'intéressant': 9, 'ce': 3, '-il': 0, 'troisième': 14, 'et': 8, 'est': 7, 'moi': 11, 'le': 10, 'un': 15, 'plus': 12, '.': 1, 'ceci': 4, 'document': 5, 'encore': 6, '?': 2, 'premier': 13, 'voilà': 16, 'à': 17}, 'max_df': 1.0, 'decode_error': 'strict', 'stop_words': None, 'strip_accents': None, 'binary': False, 'dtype': <class 'numpy.int64'>, 'token_pattern': '[^ ]+', 'input': 'content', 'tokenizer': None, 'vocabulary': None, 'lowercase': True, 'min_df': 1, 'encoding': 'utf-8', 'fixed_vocabulary_': False, '_stop_words_id': 94436103786736, 'ngram_range': (1, 1), 'stop_words_': set()}\n",
      "{'intéressant': 9, 'ce': 3, '-il': 0, 'troisième': 14, 'et': 8, 'est': 7, 'moi': 11, 'le': 10, 'un': 15, 'plus': 12, '.': 1, 'ceci': 4, 'document': 5, 'encore': 6, '?': 2, 'premier': 13, 'voilà': 16, 'à': 17}\n",
      "['-il', '.', '?', 'ce', 'ceci', 'document', 'encore', 'est', 'et', 'intéressant', 'le', 'moi', 'plus', 'premier', 'troisième', 'un', 'voilà', 'à']\n",
      "  (0, 1)\t1\n",
      "  (0, 4)\t1\n",
      "  (0, 5)\t1\n",
      "  (0, 7)\t1\n",
      "  (0, 15)\t1\n",
      "  (1, 1)\t1\n",
      "  (1, 3)\t1\n",
      "  (1, 5)\t2\n",
      "  (1, 6)\t1\n",
      "  (1, 7)\t1\n",
      "  (1, 11)\t1\n",
      "  (1, 15)\t1\n",
      "  (1, 17)\t1\n",
      "  (2, 1)\t1\n",
      "  (2, 8)\t1\n",
      "  (2, 10)\t1\n",
      "  (2, 14)\t1\n",
      "  (2, 16)\t1\n",
      "  (3, 0)\t1\n",
      "  (3, 2)\t1\n",
      "  (3, 5)\t1\n",
      "  (3, 7)\t1\n",
      "  (3, 9)\t1\n",
      "  (3, 10)\t2\n",
      "  (3, 12)\t1\n",
      "  (3, 13)\t1\n"
     ]
    }
   ],
   "source": [
    "# QUESTIONS:\n",
    "\n",
    "# Que se passe-t-il pour les mots du test_corpus non présents dans le train_corpus?\n",
    "# Comparez avec :\n",
    "# vectorizer.fit(test_corpus)\n",
    "# vectorizer.fit_transform(test_corpus)\n",
    "\n",
    "# comment changer la tokenisation effectuee? (lors de la création de l'instance de CountVectorizer)\n",
    "# en particulier, comment simplement splitter sur les espaces (en supposant donc que les textes sont déjà tokenisés)\n",
    "# aide: pour voir tous les membres de l'instance, et en déduire quel membre modifier:\n",
    "print(\"\\nMEMBRES:\", vectorizer.__dict__)\n",
    "\n",
    "train_corpus = [\n",
    "     'Ceci est un document .',\n",
    "     'Ce document est encore un document à moi .',\n",
    "     'Et voilà le troisième .',\n",
    "     'Le premier document est -il le plus intéressant ?',\n",
    " ]\n",
    "X_train = vectorizer.fit_transform(train_corpus)\n",
    "\n",
    "print(vectorizer.vocabulary_)\n",
    "print(vectorizer.get_feature_names())\n",
    "\n",
    "# étudiez la classe TfidfTransformer\n",
    "# https://scikit-learn.org/stable/modules/generated/sklearn.feature_extraction.text.TfidfTransformer.html\n",
    "# en déduire comment passer à des vecteurs normalisés\n",
    "# Cherchez ce qu'est une pondération TF.IDF\n",
    "tfidf = TfidfTransformer()\n",
    "print(tfidf.fit_transform(train_corpus))"
   ]
  },
  {
   "cell_type": "code",
   "execution_count": null,
   "metadata": {
    "collapsed": true
   },
   "outputs": [],
   "source": []
  }
 ],
 "metadata": {
  "kernelspec": {
   "display_name": "Python 3",
   "language": "python",
   "name": "python3"
  },
  "language_info": {
   "codemirror_mode": {
    "name": "ipython",
    "version": 3
   },
   "file_extension": ".py",
   "mimetype": "text/x-python",
   "name": "python",
   "nbconvert_exporter": "python",
   "pygments_lexer": "ipython3",
   "version": "3.5.4"
  }
 },
 "nbformat": 4,
 "nbformat_minor": 2
}
